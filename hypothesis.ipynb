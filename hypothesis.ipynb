{
 "cells": [
  {
   "cell_type": "markdown",
   "metadata": {},
   "source": [
    "# Before you start:\n",
    "- Read the README.md file\n",
    "- Comment as much as you can and use the resources (README.md file)\n",
    "- Always state the H0 and H1 before conducting the hypothesis test.\n",
    "- Happy learning!"
   ]
  },
  {
   "cell_type": "code",
   "execution_count": 1,
   "metadata": {},
   "outputs": [],
   "source": [
    "# import numpy and pandas\n",
    "import pandas as pd\n",
    "import numpy as np\n"
   ]
  },
  {
   "cell_type": "markdown",
   "metadata": {},
   "source": [
    "# Challenge 1 - Exploring the Data\n",
    "\n",
    "In this challenge, we will examine all salaries of employees of the City of Chicago. We will start by loading the dataset and examining its contents. "
   ]
  },
  {
   "cell_type": "code",
   "execution_count": 2,
   "metadata": {},
   "outputs": [
    {
     "data": {
      "text/plain": [
       "(33702, 8)"
      ]
     },
     "metadata": {},
     "output_type": "display_data"
    },
    {
     "data": {
      "text/html": [
       "<div>\n",
       "<style scoped>\n",
       "    .dataframe tbody tr th:only-of-type {\n",
       "        vertical-align: middle;\n",
       "    }\n",
       "\n",
       "    .dataframe tbody tr th {\n",
       "        vertical-align: top;\n",
       "    }\n",
       "\n",
       "    .dataframe thead th {\n",
       "        text-align: right;\n",
       "    }\n",
       "</style>\n",
       "<table border=\"1\" class=\"dataframe\">\n",
       "  <thead>\n",
       "    <tr style=\"text-align: right;\">\n",
       "      <th></th>\n",
       "      <th>Name</th>\n",
       "      <th>Job Titles</th>\n",
       "      <th>Department</th>\n",
       "      <th>Full or Part-Time</th>\n",
       "      <th>Salary or Hourly</th>\n",
       "      <th>Typical Hours</th>\n",
       "      <th>Annual Salary</th>\n",
       "      <th>Hourly Rate</th>\n",
       "    </tr>\n",
       "  </thead>\n",
       "  <tbody>\n",
       "    <tr>\n",
       "      <th>0</th>\n",
       "      <td>ADRIANO,  RACQUEL ANNE</td>\n",
       "      <td>PARAMEDIC</td>\n",
       "      <td>FIRE</td>\n",
       "      <td>F</td>\n",
       "      <td>Salary</td>\n",
       "      <td>NaN</td>\n",
       "      <td>72510.0</td>\n",
       "      <td>NaN</td>\n",
       "    </tr>\n",
       "    <tr>\n",
       "      <th>1</th>\n",
       "      <td>AFFANEH,  MAHIR A</td>\n",
       "      <td>POLICE OFFICER</td>\n",
       "      <td>POLICE</td>\n",
       "      <td>F</td>\n",
       "      <td>Salary</td>\n",
       "      <td>NaN</td>\n",
       "      <td>93354.0</td>\n",
       "      <td>NaN</td>\n",
       "    </tr>\n",
       "    <tr>\n",
       "      <th>2</th>\n",
       "      <td>AFOENYI,  PHYLLIS</td>\n",
       "      <td>TITLE V PROGRAM TRAINEE I</td>\n",
       "      <td>FAMILY &amp; SUPPORT</td>\n",
       "      <td>P</td>\n",
       "      <td>Hourly</td>\n",
       "      <td>20.0</td>\n",
       "      <td>NaN</td>\n",
       "      <td>13.0</td>\n",
       "    </tr>\n",
       "    <tr>\n",
       "      <th>3</th>\n",
       "      <td>AGAR,  BULENT B</td>\n",
       "      <td>DEPUTY COMMISSIONER</td>\n",
       "      <td>WATER MGMNT</td>\n",
       "      <td>F</td>\n",
       "      <td>Salary</td>\n",
       "      <td>NaN</td>\n",
       "      <td>132972.0</td>\n",
       "      <td>NaN</td>\n",
       "    </tr>\n",
       "    <tr>\n",
       "      <th>4</th>\n",
       "      <td>AGEE,  LAWRENCE</td>\n",
       "      <td>POLICE OFFICER</td>\n",
       "      <td>POLICE</td>\n",
       "      <td>F</td>\n",
       "      <td>Salary</td>\n",
       "      <td>NaN</td>\n",
       "      <td>90024.0</td>\n",
       "      <td>NaN</td>\n",
       "    </tr>\n",
       "  </tbody>\n",
       "</table>\n",
       "</div>"
      ],
      "text/plain": [
       "                     Name                 Job Titles        Department  \\\n",
       "0  ADRIANO,  RACQUEL ANNE                  PARAMEDIC              FIRE   \n",
       "1       AFFANEH,  MAHIR A             POLICE OFFICER            POLICE   \n",
       "2       AFOENYI,  PHYLLIS  TITLE V PROGRAM TRAINEE I  FAMILY & SUPPORT   \n",
       "3         AGAR,  BULENT B        DEPUTY COMMISSIONER       WATER MGMNT   \n",
       "4         AGEE,  LAWRENCE             POLICE OFFICER            POLICE   \n",
       "\n",
       "  Full or Part-Time Salary or Hourly  Typical Hours  Annual Salary  \\\n",
       "0                 F           Salary            NaN        72510.0   \n",
       "1                 F           Salary            NaN        93354.0   \n",
       "2                 P           Hourly           20.0            NaN   \n",
       "3                 F           Salary            NaN       132972.0   \n",
       "4                 F           Salary            NaN        90024.0   \n",
       "\n",
       "   Hourly Rate  \n",
       "0          NaN  \n",
       "1          NaN  \n",
       "2         13.0  \n",
       "3          NaN  \n",
       "4          NaN  "
      ]
     },
     "execution_count": 2,
     "metadata": {},
     "output_type": "execute_result"
    }
   ],
   "source": [
    "# Your code here:\n",
    "data = pd.read_csv('Current_Employee_Names__Salaries__and_Position_Titles.csv')\n",
    "display(data.shape)\n",
    "data.head()"
   ]
  },
  {
   "cell_type": "markdown",
   "metadata": {},
   "source": [
    "Examine the `salaries` dataset using the `head` function below."
   ]
  },
  {
   "cell_type": "code",
   "execution_count": 3,
   "metadata": {},
   "outputs": [
    {
     "data": {
      "text/plain": [
       "<bound method NDFrame.describe of                          Name                 Job Titles        Department  \\\n",
       "0      ADRIANO,  RACQUEL ANNE                  PARAMEDIC              FIRE   \n",
       "1           AFFANEH,  MAHIR A             POLICE OFFICER            POLICE   \n",
       "2           AFOENYI,  PHYLLIS  TITLE V PROGRAM TRAINEE I  FAMILY & SUPPORT   \n",
       "3             AGAR,  BULENT B        DEPUTY COMMISSIONER       WATER MGMNT   \n",
       "4             AGEE,  LAWRENCE             POLICE OFFICER            POLICE   \n",
       "...                       ...                        ...               ...   \n",
       "33697      ZYLINSKA,  KLAUDIA             POLICE OFFICER            POLICE   \n",
       "33698      ZYMANTAS,  LAURA C             POLICE OFFICER            POLICE   \n",
       "33699       ZYMANTAS,  MARK E             POLICE OFFICER            POLICE   \n",
       "33700     ZYRKOWSKI,  CARLO E             POLICE OFFICER            POLICE   \n",
       "33701     ZYSKOWSKI,  DARIUSZ    CHIEF DATA BASE ANALYST              DAIS   \n",
       "\n",
       "      Full or Part-Time Salary or Hourly  Typical Hours  Annual Salary  \\\n",
       "0                     F           Salary            NaN        72510.0   \n",
       "1                     F           Salary            NaN        93354.0   \n",
       "2                     P           Hourly           20.0            NaN   \n",
       "3                     F           Salary            NaN       132972.0   \n",
       "4                     F           Salary            NaN        90024.0   \n",
       "...                 ...              ...            ...            ...   \n",
       "33697                 F           Salary            NaN        72510.0   \n",
       "33698                 F           Salary            NaN        76266.0   \n",
       "33699                 F           Salary            NaN        90024.0   \n",
       "33700                 F           Salary            NaN        93354.0   \n",
       "33701                 F           Salary            NaN       126732.0   \n",
       "\n",
       "       Hourly Rate  \n",
       "0              NaN  \n",
       "1              NaN  \n",
       "2             13.0  \n",
       "3              NaN  \n",
       "4              NaN  \n",
       "...            ...  \n",
       "33697          NaN  \n",
       "33698          NaN  \n",
       "33699          NaN  \n",
       "33700          NaN  \n",
       "33701          NaN  \n",
       "\n",
       "[33702 rows x 8 columns]>"
      ]
     },
     "execution_count": 3,
     "metadata": {},
     "output_type": "execute_result"
    }
   ],
   "source": [
    "data.describe"
   ]
  },
  {
   "cell_type": "code",
   "execution_count": 4,
   "metadata": {
    "scrolled": true
   },
   "outputs": [
    {
     "data": {
      "text/plain": [
       "Name                     0\n",
       "Job Titles               0\n",
       "Department               0\n",
       "Full or Part-Time        0\n",
       "Salary or Hourly         0\n",
       "Typical Hours        25528\n",
       "Annual Salary         8174\n",
       "Hourly Rate          25528\n",
       "dtype: int64"
      ]
     },
     "execution_count": 4,
     "metadata": {},
     "output_type": "execute_result"
    }
   ],
   "source": [
    "# Your code here:\n",
    "data.isnull().sum()\n"
   ]
  },
  {
   "cell_type": "markdown",
   "metadata": {},
   "source": [
    "We see from looking at the `head` function that there is quite a bit of missing data. Let's examine how much missing data is in each column. Produce this output in the cell below"
   ]
  },
  {
   "cell_type": "code",
   "execution_count": 5,
   "metadata": {},
   "outputs": [
    {
     "data": {
      "text/plain": [
       "Name                 0.000000\n",
       "Job Titles           0.000000\n",
       "Department           0.000000\n",
       "Full or Part-Time    0.000000\n",
       "Salary or Hourly     0.000000\n",
       "Typical Hours        0.757462\n",
       "Annual Salary        0.242538\n",
       "Hourly Rate          0.757462\n",
       "dtype: float64"
      ]
     },
     "execution_count": 5,
     "metadata": {},
     "output_type": "execute_result"
    }
   ],
   "source": [
    "# Your code here:\n",
    "data.isnull().sum()/len(data)"
   ]
  },
  {
   "cell_type": "raw",
   "metadata": {},
   "source": [
    "76% of 'Typical Hours' data\n",
    "24% of 'Annual Salary' data\n",
    "76% of 'Hourly Rate' data are missing. "
   ]
  },
  {
   "cell_type": "markdown",
   "metadata": {},
   "source": [
    "Let's also look at the count of hourly vs. salaried employees. Write the code in the cell below"
   ]
  },
  {
   "cell_type": "code",
   "execution_count": 6,
   "metadata": {},
   "outputs": [
    {
     "data": {
      "text/plain": [
       "Hourly Rate\n",
       "37.45    1495\n",
       "43.72     779\n",
       "38.52     528\n",
       "19.86     345\n",
       "49.35     298\n",
       "         ... \n",
       "21.84       1\n",
       "50.50       1\n",
       "44.74       1\n",
       "30.00       1\n",
       "37.69       1\n",
       "Name: count, Length: 178, dtype: int64"
      ]
     },
     "execution_count": 6,
     "metadata": {},
     "output_type": "execute_result"
    }
   ],
   "source": [
    "data['Hourly Rate'].value_counts()"
   ]
  },
  {
   "cell_type": "code",
   "execution_count": 29,
   "metadata": {},
   "outputs": [
    {
     "data": {
      "text/html": [
       "<div>\n",
       "<style scoped>\n",
       "    .dataframe tbody tr th:only-of-type {\n",
       "        vertical-align: middle;\n",
       "    }\n",
       "\n",
       "    .dataframe tbody tr th {\n",
       "        vertical-align: top;\n",
       "    }\n",
       "\n",
       "    .dataframe thead th {\n",
       "        text-align: right;\n",
       "    }\n",
       "</style>\n",
       "<table border=\"1\" class=\"dataframe\">\n",
       "  <thead>\n",
       "    <tr style=\"text-align: right;\">\n",
       "      <th></th>\n",
       "      <th>count</th>\n",
       "      <th>mean</th>\n",
       "      <th>std</th>\n",
       "      <th>min</th>\n",
       "      <th>25%</th>\n",
       "      <th>50%</th>\n",
       "      <th>75%</th>\n",
       "      <th>max</th>\n",
       "    </tr>\n",
       "  </thead>\n",
       "  <tbody>\n",
       "    <tr>\n",
       "      <th>Typical Hours</th>\n",
       "      <td>8174.0</td>\n",
       "      <td>34.364448</td>\n",
       "      <td>9.420849</td>\n",
       "      <td>10.00</td>\n",
       "      <td>20.00</td>\n",
       "      <td>40.00</td>\n",
       "      <td>40.00</td>\n",
       "      <td>40.0</td>\n",
       "    </tr>\n",
       "    <tr>\n",
       "      <th>Annual Salary</th>\n",
       "      <td>25528.0</td>\n",
       "      <td>89061.795000</td>\n",
       "      <td>21132.041408</td>\n",
       "      <td>14160.00</td>\n",
       "      <td>76266.00</td>\n",
       "      <td>90024.00</td>\n",
       "      <td>98292.00</td>\n",
       "      <td>275004.0</td>\n",
       "    </tr>\n",
       "    <tr>\n",
       "      <th>Hourly Rate</th>\n",
       "      <td>8174.0</td>\n",
       "      <td>34.586450</td>\n",
       "      <td>13.285543</td>\n",
       "      <td>2.65</td>\n",
       "      <td>22.36</td>\n",
       "      <td>37.45</td>\n",
       "      <td>43.72</td>\n",
       "      <td>128.0</td>\n",
       "    </tr>\n",
       "  </tbody>\n",
       "</table>\n",
       "</div>"
      ],
      "text/plain": [
       "                 count          mean           std       min       25%  \\\n",
       "Typical Hours   8174.0     34.364448      9.420849     10.00     20.00   \n",
       "Annual Salary  25528.0  89061.795000  21132.041408  14160.00  76266.00   \n",
       "Hourly Rate     8174.0     34.586450     13.285543      2.65     22.36   \n",
       "\n",
       "                    50%       75%       max  \n",
       "Typical Hours     40.00     40.00      40.0  \n",
       "Annual Salary  90024.00  98292.00  275004.0  \n",
       "Hourly Rate       37.45     43.72     128.0  "
      ]
     },
     "execution_count": 29,
     "metadata": {},
     "output_type": "execute_result"
    }
   ],
   "source": [
    "data.describe().T"
   ]
  },
  {
   "cell_type": "code",
   "execution_count": 21,
   "metadata": {},
   "outputs": [
    {
     "data": {
      "text/plain": [
       "Hourly Rate\n",
       "NaN      25528\n",
       "37.45     1495\n",
       "43.72      779\n",
       "38.52      528\n",
       "19.86      345\n",
       "         ...  \n",
       "33.00        1\n",
       "52.43        1\n",
       "26.90        1\n",
       "21.84        1\n",
       "37.69        1\n",
       "Name: count, Length: 179, dtype: int64"
      ]
     },
     "execution_count": 21,
     "metadata": {},
     "output_type": "execute_result"
    }
   ],
   "source": [
    "data['Hourly Rate'].value_counts(dropna=False)\n",
    "# why do I have still NaN values!?"
   ]
  },
  {
   "cell_type": "code",
   "execution_count": 27,
   "metadata": {},
   "outputs": [],
   "source": [
    "mean_hourly_rate = data['Hourly Rate'].mean()\n",
    "# Fill NaN values in 'Hourly Rate' column with the mean\n",
    "data['Hourly_Rate'] = data['Hourly Rate'].fillna('mean_hourly_rate')"
   ]
  },
  {
   "cell_type": "code",
   "execution_count": 28,
   "metadata": {},
   "outputs": [
    {
     "data": {
      "text/plain": [
       "Hourly Rate\n",
       "NaN      25528\n",
       "37.45     1495\n",
       "43.72      779\n",
       "38.52      528\n",
       "19.86      345\n",
       "         ...  \n",
       "33.00        1\n",
       "52.43        1\n",
       "26.90        1\n",
       "21.84        1\n",
       "37.69        1\n",
       "Name: count, Length: 179, dtype: int64"
      ]
     },
     "execution_count": 28,
     "metadata": {},
     "output_type": "execute_result"
    }
   ],
   "source": [
    "data['Hourly Rate'].value_counts()\n",
    "data['Hourly Rate'].value_counts(dropna=False)"
   ]
  },
  {
   "cell_type": "code",
   "execution_count": 9,
   "metadata": {},
   "outputs": [
    {
     "data": {
      "text/plain": [
       "Typical Hours\n",
       "40.0    5920\n",
       "20.0    1928\n",
       "10.0     235\n",
       "35.0      91\n",
       "Name: count, dtype: int64"
      ]
     },
     "execution_count": 9,
     "metadata": {},
     "output_type": "execute_result"
    }
   ],
   "source": [
    "# Your code here:\n",
    "data['Typical Hours'].value_counts()"
   ]
  },
  {
   "cell_type": "markdown",
   "metadata": {},
   "source": [
    "What this information indicates is that the table contains information about two types of employees - salaried and hourly. Some columns apply only to one type of employee while other columns only apply to another kind. This is why there are so many missing values. Therefore, we will not do anything to handle the missing values."
   ]
  },
  {
   "cell_type": "markdown",
   "metadata": {},
   "source": [
    "There are different departments in the city. List all departments and the count of employees in each department."
   ]
  },
  {
   "cell_type": "code",
   "execution_count": 10,
   "metadata": {},
   "outputs": [
    {
     "data": {
      "text/html": [
       "<div>\n",
       "<style scoped>\n",
       "    .dataframe tbody tr th:only-of-type {\n",
       "        vertical-align: middle;\n",
       "    }\n",
       "\n",
       "    .dataframe tbody tr th {\n",
       "        vertical-align: top;\n",
       "    }\n",
       "\n",
       "    .dataframe thead th {\n",
       "        text-align: right;\n",
       "    }\n",
       "</style>\n",
       "<table border=\"1\" class=\"dataframe\">\n",
       "  <thead>\n",
       "    <tr style=\"text-align: right;\">\n",
       "      <th></th>\n",
       "      <th>Department</th>\n",
       "      <th>Name</th>\n",
       "    </tr>\n",
       "  </thead>\n",
       "  <tbody>\n",
       "    <tr>\n",
       "      <th>0</th>\n",
       "      <td>ADMIN HEARNG</td>\n",
       "      <td>38</td>\n",
       "    </tr>\n",
       "    <tr>\n",
       "      <th>1</th>\n",
       "      <td>ANIMAL CONTRL</td>\n",
       "      <td>75</td>\n",
       "    </tr>\n",
       "    <tr>\n",
       "      <th>2</th>\n",
       "      <td>AVIATION</td>\n",
       "      <td>1856</td>\n",
       "    </tr>\n",
       "    <tr>\n",
       "      <th>3</th>\n",
       "      <td>BOARD OF ELECTION</td>\n",
       "      <td>111</td>\n",
       "    </tr>\n",
       "    <tr>\n",
       "      <th>4</th>\n",
       "      <td>BOARD OF ETHICS</td>\n",
       "      <td>8</td>\n",
       "    </tr>\n",
       "    <tr>\n",
       "      <th>5</th>\n",
       "      <td>BUDGET &amp; MGMT</td>\n",
       "      <td>44</td>\n",
       "    </tr>\n",
       "    <tr>\n",
       "      <th>6</th>\n",
       "      <td>BUILDINGS</td>\n",
       "      <td>258</td>\n",
       "    </tr>\n",
       "    <tr>\n",
       "      <th>7</th>\n",
       "      <td>BUSINESS AFFAIRS</td>\n",
       "      <td>167</td>\n",
       "    </tr>\n",
       "    <tr>\n",
       "      <th>8</th>\n",
       "      <td>CITY CLERK</td>\n",
       "      <td>88</td>\n",
       "    </tr>\n",
       "    <tr>\n",
       "      <th>9</th>\n",
       "      <td>CITY COUNCIL</td>\n",
       "      <td>362</td>\n",
       "    </tr>\n",
       "    <tr>\n",
       "      <th>10</th>\n",
       "      <td>COPA</td>\n",
       "      <td>123</td>\n",
       "    </tr>\n",
       "    <tr>\n",
       "      <th>11</th>\n",
       "      <td>CULTURAL AFFAIRS</td>\n",
       "      <td>74</td>\n",
       "    </tr>\n",
       "    <tr>\n",
       "      <th>12</th>\n",
       "      <td>DAIS</td>\n",
       "      <td>1033</td>\n",
       "    </tr>\n",
       "    <tr>\n",
       "      <th>13</th>\n",
       "      <td>DISABILITIES</td>\n",
       "      <td>28</td>\n",
       "    </tr>\n",
       "    <tr>\n",
       "      <th>14</th>\n",
       "      <td>FAMILY &amp; SUPPORT</td>\n",
       "      <td>656</td>\n",
       "    </tr>\n",
       "    <tr>\n",
       "      <th>15</th>\n",
       "      <td>FINANCE</td>\n",
       "      <td>544</td>\n",
       "    </tr>\n",
       "    <tr>\n",
       "      <th>16</th>\n",
       "      <td>FIRE</td>\n",
       "      <td>4627</td>\n",
       "    </tr>\n",
       "    <tr>\n",
       "      <th>17</th>\n",
       "      <td>HEALTH</td>\n",
       "      <td>467</td>\n",
       "    </tr>\n",
       "    <tr>\n",
       "      <th>18</th>\n",
       "      <td>HOUSING</td>\n",
       "      <td>66</td>\n",
       "    </tr>\n",
       "    <tr>\n",
       "      <th>19</th>\n",
       "      <td>HOUSING &amp; ECON DEV</td>\n",
       "      <td>154</td>\n",
       "    </tr>\n",
       "    <tr>\n",
       "      <th>20</th>\n",
       "      <td>HUMAN RELATIONS</td>\n",
       "      <td>17</td>\n",
       "    </tr>\n",
       "    <tr>\n",
       "      <th>21</th>\n",
       "      <td>HUMAN RESOURCES</td>\n",
       "      <td>75</td>\n",
       "    </tr>\n",
       "    <tr>\n",
       "      <th>22</th>\n",
       "      <td>INSPECTOR GEN</td>\n",
       "      <td>95</td>\n",
       "    </tr>\n",
       "    <tr>\n",
       "      <th>23</th>\n",
       "      <td>LAW</td>\n",
       "      <td>398</td>\n",
       "    </tr>\n",
       "    <tr>\n",
       "      <th>24</th>\n",
       "      <td>LICENSE APPL COMM</td>\n",
       "      <td>1</td>\n",
       "    </tr>\n",
       "    <tr>\n",
       "      <th>25</th>\n",
       "      <td>MAYOR'S OFFICE</td>\n",
       "      <td>104</td>\n",
       "    </tr>\n",
       "    <tr>\n",
       "      <th>26</th>\n",
       "      <td>OEMC</td>\n",
       "      <td>1737</td>\n",
       "    </tr>\n",
       "    <tr>\n",
       "      <th>27</th>\n",
       "      <td>POLICE</td>\n",
       "      <td>13848</td>\n",
       "    </tr>\n",
       "    <tr>\n",
       "      <th>28</th>\n",
       "      <td>POLICE BOARD</td>\n",
       "      <td>2</td>\n",
       "    </tr>\n",
       "    <tr>\n",
       "      <th>29</th>\n",
       "      <td>PROCUREMENT</td>\n",
       "      <td>84</td>\n",
       "    </tr>\n",
       "    <tr>\n",
       "      <th>30</th>\n",
       "      <td>PUBLIC LIBRARY</td>\n",
       "      <td>1088</td>\n",
       "    </tr>\n",
       "    <tr>\n",
       "      <th>31</th>\n",
       "      <td>PUBLIC SAFETY ADMIN</td>\n",
       "      <td>244</td>\n",
       "    </tr>\n",
       "    <tr>\n",
       "      <th>32</th>\n",
       "      <td>STREETS &amp; SAN</td>\n",
       "      <td>2175</td>\n",
       "    </tr>\n",
       "    <tr>\n",
       "      <th>33</th>\n",
       "      <td>TRANSPORTN</td>\n",
       "      <td>1113</td>\n",
       "    </tr>\n",
       "    <tr>\n",
       "      <th>34</th>\n",
       "      <td>TREASURER</td>\n",
       "      <td>28</td>\n",
       "    </tr>\n",
       "    <tr>\n",
       "      <th>35</th>\n",
       "      <td>WATER MGMNT</td>\n",
       "      <td>1914</td>\n",
       "    </tr>\n",
       "  </tbody>\n",
       "</table>\n",
       "</div>"
      ],
      "text/plain": [
       "             Department   Name\n",
       "0          ADMIN HEARNG     38\n",
       "1         ANIMAL CONTRL     75\n",
       "2              AVIATION   1856\n",
       "3     BOARD OF ELECTION    111\n",
       "4       BOARD OF ETHICS      8\n",
       "5         BUDGET & MGMT     44\n",
       "6             BUILDINGS    258\n",
       "7      BUSINESS AFFAIRS    167\n",
       "8            CITY CLERK     88\n",
       "9          CITY COUNCIL    362\n",
       "10                 COPA    123\n",
       "11     CULTURAL AFFAIRS     74\n",
       "12                 DAIS   1033\n",
       "13         DISABILITIES     28\n",
       "14     FAMILY & SUPPORT    656\n",
       "15              FINANCE    544\n",
       "16                 FIRE   4627\n",
       "17               HEALTH    467\n",
       "18              HOUSING     66\n",
       "19   HOUSING & ECON DEV    154\n",
       "20      HUMAN RELATIONS     17\n",
       "21      HUMAN RESOURCES     75\n",
       "22        INSPECTOR GEN     95\n",
       "23                  LAW    398\n",
       "24    LICENSE APPL COMM      1\n",
       "25       MAYOR'S OFFICE    104\n",
       "26                 OEMC   1737\n",
       "27               POLICE  13848\n",
       "28         POLICE BOARD      2\n",
       "29          PROCUREMENT     84\n",
       "30       PUBLIC LIBRARY   1088\n",
       "31  PUBLIC SAFETY ADMIN    244\n",
       "32        STREETS & SAN   2175\n",
       "33           TRANSPORTN   1113\n",
       "34            TREASURER     28\n",
       "35          WATER MGMNT   1914"
      ]
     },
     "execution_count": 10,
     "metadata": {},
     "output_type": "execute_result"
    }
   ],
   "source": [
    "# Your code here:\n",
    "department_counts = data.groupby('Department')['Name'].count().reset_index()\n",
    "department_counts "
   ]
  },
  {
   "cell_type": "markdown",
   "metadata": {},
   "source": [
    "# Challenge 2 - Hypothesis Tests\n",
    "\n",
    "In this section of the lab, we will test whether the hourly wage of all hourly workers is significantly different from $30/hr. Import the correct one sample test function from scipy and perform the hypothesis test for a 95% two sided confidence interval."
   ]
  },
  {
   "cell_type": "code",
   "execution_count": 11,
   "metadata": {},
   "outputs": [],
   "source": [
    "# what is the standard dev, assume here 3 ? What is the average hourly_wage? \n",
    "# You need to clean the data! \n",
    "import scipy.stats\n",
    "hourly_wage = np.random.normal(30, 3, 600)\n",
    "confidence_level = 0.95\n",
    "#confidence_level = 1  # WHAT HAPPENS NOW?\n",
    "degrees_freedom = len(hourly_wage) - 1  # or, for large values of sample size, just use that\n",
    "sample_mean = np.mean(hourly_wage)\n",
    "# note that we use the standard error of the sample \n",
    "# as an estimate of the standard error of the population (which is used in the theoretical formula)\n",
    "sample_standard_error = scipy.stats.sem(hourly_wage) # sem = standard error of the mean = std(patients)/sqrt(degrees_freedom)\n",
    "\n",
    "confidence_interval = scipy.stats.t.interval(confidence_level, \n",
    "                                             degrees_freedom, \n",
    "                                             sample_mean, \n",
    "                                             sample_standard_error)\n"
   ]
  },
  {
   "cell_type": "code",
   "execution_count": 12,
   "metadata": {},
   "outputs": [
    {
     "data": {
      "text/plain": [
       "array([29.68559217, 30.58387137, 29.32612409, 35.00981617, 28.70786948,\n",
       "       27.59911322, 31.02822515, 32.29323477, 32.53712685, 25.95289255,\n",
       "       34.17937607, 35.2328186 , 34.65488099, 28.38511818, 26.54376751,\n",
       "       26.43474929, 32.79218935, 26.95328696, 28.49138387, 29.23010384,\n",
       "       32.36258347, 30.7030045 , 30.66772218, 30.04532782, 28.30651927,\n",
       "       31.67261813, 28.04445467, 32.80241994, 33.68864341, 29.23860448,\n",
       "       31.66044209, 30.09151564, 33.59042287, 28.5357807 , 28.08580453,\n",
       "       33.40054748, 38.0469138 , 27.37578583, 28.28037043, 32.18229039,\n",
       "       29.71669975, 33.95003725, 34.04155771, 33.06200895, 33.49940623,\n",
       "       32.23914132, 25.79502285, 31.70462485, 28.68039532, 26.61121738,\n",
       "       28.23753124, 28.20628937, 29.45475726, 25.24186405, 29.93183798,\n",
       "       32.31729427, 26.23898099, 27.0933645 , 30.73810795, 24.69766369,\n",
       "       27.20376968, 32.16652364, 26.36815698, 29.51304064, 31.34801655,\n",
       "       30.95350185, 27.43915722, 31.76396718, 31.08475148, 33.43997786,\n",
       "       27.45199252, 29.49571715, 25.83751494, 29.28767436, 32.34824718,\n",
       "       34.82556277, 29.32714962, 32.73155175, 32.50512926, 28.71415785,\n",
       "       31.65292679, 25.9569138 , 31.61857426, 26.62772925, 29.55953277,\n",
       "       26.28301098, 29.13160264, 29.800528  , 29.38429465, 28.71425217,\n",
       "       37.06720971, 27.94939295, 23.15905007, 26.40742212, 31.7342715 ,\n",
       "       27.09043883, 25.59161214, 30.36777052, 30.1965814 , 27.6688715 ,\n",
       "       33.33154351, 34.04791763, 32.48767631, 29.55362815, 29.99354695,\n",
       "       28.40626202, 33.95099692, 24.55858464, 34.09803907, 31.28034346,\n",
       "       29.98620846, 33.98106827, 28.98308163, 24.90009152, 32.55204031,\n",
       "       29.01168979, 32.42707707, 25.78916625, 28.82883096, 25.48796248,\n",
       "       29.45772867, 28.88785362, 28.60103669, 35.16284499, 29.76988903,\n",
       "       34.85089213, 27.64398316, 27.21967799, 27.86051044, 31.52014815,\n",
       "       28.23023045, 34.09814625, 25.92444876, 27.36927385, 28.07135375,\n",
       "       25.29508482, 34.47543235, 28.67606585, 27.28079552, 27.95499571,\n",
       "       28.83587979, 29.14156197, 27.82132745, 29.58458133, 31.82087588,\n",
       "       32.79106777, 23.70763897, 29.71686282, 36.20205299, 31.85235851,\n",
       "       28.5653051 , 30.45687802, 31.4172714 , 29.6785629 , 31.65620974,\n",
       "       31.45909026, 28.8134223 , 29.31097917, 27.9153521 , 31.53158087,\n",
       "       29.81428689, 30.05936351, 27.20023699, 31.53905141, 31.50360937,\n",
       "       32.6495853 , 30.33347438, 27.75758304, 31.01376488, 33.05915116,\n",
       "       27.43302211, 29.13499663, 30.85641236, 33.24055278, 28.54057701,\n",
       "       26.70235344, 32.51919951, 30.53345211, 31.46120752, 31.91152791,\n",
       "       26.83426539, 30.79622361, 33.16462765, 30.75039524, 29.01451542,\n",
       "       33.22067508, 26.51566944, 31.98130118, 27.23702396, 29.5091608 ,\n",
       "       27.64269041, 29.23883829, 25.76570603, 33.96331437, 26.18624919,\n",
       "       29.22295993, 24.64324975, 30.90844326, 27.88817238, 34.85236289,\n",
       "       31.13694374, 29.11948827, 29.34453913, 32.5777163 , 33.10325177,\n",
       "       32.11937404, 28.51523742, 32.4094305 , 25.59299461, 30.93318479,\n",
       "       31.19539242, 36.3278256 , 30.61222744, 26.97799429, 29.17350761,\n",
       "       29.00764422, 29.16150866, 26.97264252, 28.1136047 , 26.41724057,\n",
       "       29.48076117, 27.08825503, 30.81281346, 28.86482146, 33.1175694 ,\n",
       "       34.543262  , 33.95300857, 30.49818866, 32.78285175, 28.66356708,\n",
       "       30.11081857, 28.21375297, 30.55580747, 31.33535732, 25.51980342,\n",
       "       30.59910218, 31.17967618, 34.38388947, 28.84766793, 28.0550309 ,\n",
       "       27.91463009, 28.62053886, 28.63320476, 21.4303722 , 30.23685288,\n",
       "       31.13143902, 33.81305607, 29.90711531, 29.260592  , 32.20579133,\n",
       "       27.80425718, 24.91948639, 28.30708098, 29.70638911, 27.20987915,\n",
       "       27.93943969, 26.67654357, 30.88342628, 29.14418118, 38.15907674,\n",
       "       27.40909915, 33.1345814 , 30.25073878, 30.41723853, 31.40019764,\n",
       "       34.36699718, 29.75797767, 32.67318784, 29.10205904, 25.82654964,\n",
       "       27.90397954, 30.11923796, 33.83190558, 28.31872156, 30.79835702,\n",
       "       28.03735784, 24.61974682, 30.14413677, 35.31994754, 29.19667324,\n",
       "       31.10505173, 24.7579318 , 28.36603481, 26.91017075, 31.20470797,\n",
       "       28.85875511, 31.37974004, 30.19371855, 32.27025851, 30.18685817,\n",
       "       22.71545669, 28.26433024, 26.63304817, 32.23846858, 30.86118928,\n",
       "       28.94032263, 24.77680349, 31.25384115, 27.90730432, 24.55818739,\n",
       "       33.36380232, 24.94132153, 33.74969359, 30.06789171, 27.92569512,\n",
       "       24.22990195, 25.2875901 , 29.31151578, 28.9322845 , 31.48782581,\n",
       "       28.36350527, 26.42049142, 33.09645673, 30.57903249, 29.05161872,\n",
       "       25.88540369, 27.73540045, 29.84144321, 27.51849349, 28.20230234,\n",
       "       28.82355125, 33.18442965, 30.36267753, 36.042023  , 28.83801434,\n",
       "       28.00427182, 26.95406204, 30.18725106, 31.0716429 , 39.05444415,\n",
       "       31.00419383, 33.75167431, 28.24816368, 27.21025772, 28.9665855 ,\n",
       "       30.69090654, 34.82742142, 30.47148061, 32.96128742, 30.02385574,\n",
       "       26.85418029, 30.94301191, 35.26570396, 30.88756763, 32.95386474,\n",
       "       30.4912595 , 30.59126533, 33.16288416, 25.80414349, 28.01138776,\n",
       "       28.75131611, 34.89647266, 27.15194305, 30.56945098, 31.15108265,\n",
       "       26.19005942, 29.09952816, 25.54694629, 34.38199966, 29.39860821,\n",
       "       29.69803471, 27.83964459, 28.61521203, 22.94646443, 32.69448367,\n",
       "       30.43321646, 23.79284906, 28.93073786, 30.61702319, 27.38092368,\n",
       "       28.81668867, 27.83889525, 33.98138463, 26.26625569, 32.09864797,\n",
       "       29.33533802, 29.8526928 , 38.73558818, 29.74225708, 30.89261036,\n",
       "       28.81615596, 28.20989901, 27.91927552, 24.53806216, 27.59798671,\n",
       "       30.64789774, 31.34752778, 25.17669331, 29.30750297, 30.67548435,\n",
       "       34.28474092, 24.12273139, 29.51129625, 30.83413614, 23.48686685,\n",
       "       26.45111287, 25.02285127, 28.74763273, 33.85501675, 27.48702509,\n",
       "       32.4897496 , 28.33786033, 28.60141794, 27.96155964, 31.09298437,\n",
       "       28.96070712, 26.12364039, 30.68730228, 27.75566943, 30.52085373,\n",
       "       25.42073142, 33.98221688, 29.70711729, 34.86408156, 28.67982678,\n",
       "       27.72287239, 27.7016401 , 30.82257278, 31.32328129, 26.83395959,\n",
       "       30.2334587 , 36.6468433 , 31.18107508, 27.32701602, 30.22903196,\n",
       "       27.65119313, 29.81741292, 35.33620636, 26.86539909, 27.24205399,\n",
       "       31.44027471, 31.08336295, 29.46753512, 32.63966683, 30.31332578,\n",
       "       30.16828035, 30.85943697, 37.06584255, 31.80367869, 32.9917263 ,\n",
       "       28.32999235, 27.88107506, 31.26974954, 39.06304866, 32.8021455 ,\n",
       "       27.42839148, 28.27069297, 28.40155815, 27.017629  , 30.9056267 ,\n",
       "       30.78384566, 25.07470576, 32.57957845, 27.98189324, 32.69614547,\n",
       "       31.31944424, 28.28595308, 32.86026866, 32.00261517, 28.21774803,\n",
       "       32.93143134, 28.72540015, 26.88789228, 33.21732845, 29.95790127,\n",
       "       23.8542035 , 29.54047347, 30.16500651, 31.10319428, 30.28273977,\n",
       "       27.45683417, 28.72712312, 32.45112005, 28.44306252, 29.482522  ,\n",
       "       27.22565863, 22.26014013, 31.81309176, 29.03781056, 30.90178751,\n",
       "       27.56592823, 27.8539099 , 29.5050083 , 26.46812589, 26.99535311,\n",
       "       25.23135866, 32.62352657, 30.75266842, 35.26858522, 36.04033232,\n",
       "       31.69515929, 26.8244864 , 29.95985596, 27.9563471 , 27.35631471,\n",
       "       29.81405825, 29.32177252, 24.00196408, 28.93087174, 31.88246156,\n",
       "       27.24338467, 27.57101011, 31.9242767 , 28.3083236 , 30.30588776,\n",
       "       30.51895675, 30.58417564, 29.82975917, 32.95871197, 30.3110659 ,\n",
       "       31.02010617, 28.3434984 , 29.06714358, 32.24014472, 31.88909585,\n",
       "       27.34576351, 31.38304451, 28.98954706, 34.84441499, 28.77901218,\n",
       "       28.5873864 , 23.30000805, 37.27219214, 30.63237488, 20.80077976,\n",
       "       29.11081938, 31.67647947, 30.66937797, 36.60649768, 29.47054472,\n",
       "       30.48321518, 33.17618693, 32.01915059, 32.39836264, 30.11098557,\n",
       "       25.44642669, 32.96738839, 32.38428516, 31.52851239, 26.77634149,\n",
       "       29.63006505, 34.94456256, 28.17955077, 35.61171593, 28.43724809,\n",
       "       31.87333883, 30.39900332, 32.12773088, 27.86662826, 32.69924253,\n",
       "       33.20202119, 30.78199823, 31.42242677, 30.46912346, 30.0218635 ,\n",
       "       34.92288541, 31.9337643 , 29.67178301, 29.33456696, 29.31096253,\n",
       "       36.19113702, 27.49784271, 31.77974544, 33.03467696, 32.89848895,\n",
       "       29.62369568, 31.59444267, 30.22717916, 36.71083591, 29.39010897,\n",
       "       31.99229917, 31.24167443, 29.4609818 , 28.64363753, 29.07887088,\n",
       "       27.35864855, 33.14844201, 27.73613659, 31.50365284, 29.0827595 ,\n",
       "       20.5812095 , 26.17548913, 27.53868426, 30.11542937, 28.46172201,\n",
       "       34.06175403, 29.36952998, 27.39197264, 28.13152505, 29.5270926 ,\n",
       "       22.19220166, 23.44456614, 29.71639942, 31.18811233, 27.58610617,\n",
       "       32.49332725, 28.67957467, 31.77475688, 26.2247978 , 30.57433251])"
      ]
     },
     "execution_count": 12,
     "metadata": {},
     "output_type": "execute_result"
    }
   ],
   "source": [
    "hourly_wage"
   ]
  },
  {
   "cell_type": "markdown",
   "metadata": {},
   "source": [
    "We are also curious about salaries in the police force. The chief of police in Chicago claimed in a press briefing that salaries this year are higher than last year's mean of $86000/year a year for all salaried employees. Test this one sided hypothesis using a 95% confidence interval.\n",
    "\n",
    "Hint: A one tailed test has a p-value that is half of the two tailed p-value. If our Null hypothesis is less than or equal to, then to reject, the test statistic must be positive (rejects the <) and the p-value below 0.05 (rejects the =)."
   ]
  },
  {
   "cell_type": "code",
   "execution_count": 13,
   "metadata": {},
   "outputs": [],
   "source": [
    "# Your code here:\n",
    "# Work on the annual salary too! \n",
    "# stat, pval = ttest_1samp(patients, 5.6)"
   ]
  },
  {
   "cell_type": "markdown",
   "metadata": {},
   "source": [
    "Using the `crosstab` function, find the department that has the most hourly workers. "
   ]
  },
  {
   "cell_type": "code",
   "execution_count": 14,
   "metadata": {},
   "outputs": [],
   "source": [
    "# Your code here:\n",
    "\n"
   ]
  },
  {
   "cell_type": "markdown",
   "metadata": {},
   "source": [
    "The workers from the department with the most hourly workers have complained that their hourly wage is less than $35/hour. Using a one sample t-test, test this one-sided hypothesis at the 95% confidence level."
   ]
  },
  {
   "cell_type": "code",
   "execution_count": 15,
   "metadata": {},
   "outputs": [],
   "source": [
    "# Your code here:\n",
    "\n"
   ]
  },
  {
   "cell_type": "markdown",
   "metadata": {},
   "source": [
    "# Challenge 3: To practice - Constructing Confidence Intervals\n",
    "\n",
    "While testing our hypothesis is a great way to gather empirical evidence for accepting or rejecting the hypothesis, another way to gather evidence is by creating a confidence interval. A confidence interval gives us information about the true mean of the population. So for a 95% confidence interval, we are 95% sure that the mean of the population is within the confidence interval. \n",
    ").\n",
    "\n",
    "To read more about confidence intervals, click [here](https://en.wikipedia.org/wiki/Confidence_interval).\n",
    "\n",
    "\n",
    "In the cell below, we will construct a 95% confidence interval for the mean hourly wage of all hourly workers. \n",
    "\n",
    "The confidence interval is computed in SciPy using the `t.interval` function. You can read more about this function [here](https://docs.scipy.org/doc/scipy-0.14.0/reference/generated/scipy.stats.t.html).\n",
    "\n",
    "To compute the confidence interval of the hourly wage, use the 0.95 for the confidence level, number of rows - 1 for degrees of freedom, the mean of the sample for the location parameter and the standard error for the scale. The standard error can be computed using [this](https://docs.scipy.org/doc/scipy/reference/generated/scipy.stats.sem.html) function in SciPy."
   ]
  },
  {
   "cell_type": "code",
   "execution_count": 16,
   "metadata": {},
   "outputs": [],
   "source": [
    "# Your code here:\n",
    "\n"
   ]
  },
  {
   "cell_type": "markdown",
   "metadata": {},
   "source": [
    "Now construct the 95% confidence interval for all salaried employeed in the police in the cell below."
   ]
  },
  {
   "cell_type": "code",
   "execution_count": 17,
   "metadata": {},
   "outputs": [],
   "source": [
    "# Your code here:\n",
    "\n"
   ]
  },
  {
   "cell_type": "markdown",
   "metadata": {},
   "source": [
    "# Bonus Challenge - Hypothesis Tests of Proportions\n",
    "\n",
    "Another type of one sample test is a hypothesis test of proportions. In this test, we examine whether the proportion of a group in our sample is significantly different than a fraction. \n",
    "\n",
    "You can read more about one sample proportion tests [here](http://sphweb.bumc.bu.edu/otlt/MPH-Modules/BS/SAS/SAS6-CategoricalData/SAS6-CategoricalData2.html).\n",
    "\n",
    "In the cell below, use the `proportions_ztest` function from `statsmodels` to perform a hypothesis test that will determine whether the number of hourly workers in the City of Chicago is significantly different from 25% at the 95% confidence level."
   ]
  },
  {
   "cell_type": "code",
   "execution_count": 18,
   "metadata": {},
   "outputs": [],
   "source": [
    "# Your code here:\n",
    "\n"
   ]
  }
 ],
 "metadata": {
  "kernelspec": {
   "display_name": "Python 3 (ipykernel)",
   "language": "python",
   "name": "python3"
  },
  "language_info": {
   "codemirror_mode": {
    "name": "ipython",
    "version": 3
   },
   "file_extension": ".py",
   "mimetype": "text/x-python",
   "name": "python",
   "nbconvert_exporter": "python",
   "pygments_lexer": "ipython3",
   "version": "3.11.7"
  }
 },
 "nbformat": 4,
 "nbformat_minor": 4
}
